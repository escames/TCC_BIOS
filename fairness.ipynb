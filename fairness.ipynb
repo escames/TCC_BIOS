{
 "cells": [
  {
   "cell_type": "code",
   "execution_count": 36,
   "metadata": {},
   "outputs": [],
   "source": [
    "import dalex as dx\n",
    "import numpy as np\n",
    "import pandas as pd\n",
    "from sklearn.compose import ColumnTransformer\n",
    "from sklearn.pipeline import Pipeline\n",
    "from sklearn.preprocessing import OneHotEncoder\n",
    "from sklearn.tree import DecisionTreeClassifier"
   ]
  },
  {
   "cell_type": "code",
   "execution_count": 37,
   "metadata": {},
   "outputs": [
    {
     "name": "stdout",
     "output_type": "stream",
     "text": [
      "       gender        age      hours  evaluation  salary    status\n",
      "1        male  32.582669  41.886256           3       1     fired\n",
      "2      female  41.211040  36.343392           2       5     fired\n",
      "3        male  37.705164  36.817179           3       0     fired\n",
      "4      female  30.060513  38.960317           3       2     fired\n",
      "5        male  21.102827  62.154639           5       3  promoted\n",
      "...       ...        ...        ...         ...     ...       ...\n",
      "9996   female  50.175709  45.582520           5       0  promoted\n",
      "9997   female  59.087273  40.664725           3       0     fired\n",
      "9998   female  51.049296  37.810145           4       0     fired\n",
      "9999     male  36.158740  35.062329           2       3        ok\n",
      "10000  female  57.962541  54.786236           4       4  promoted\n",
      "\n",
      "[7847 rows x 6 columns]\n",
      "       gender        age      hours  evaluation  salary    status  status2\n",
      "1        male  32.582669  41.886256           3       1     fired        2\n",
      "2      female  41.211040  36.343392           2       5     fired        2\n",
      "3        male  37.705164  36.817179           3       0     fired        2\n",
      "4      female  30.060513  38.960317           3       2     fired        2\n",
      "5        male  21.102827  62.154639           5       3  promoted        1\n",
      "...       ...        ...        ...         ...     ...       ...      ...\n",
      "9996   female  50.175709  45.582520           5       0  promoted        1\n",
      "9997   female  59.087273  40.664725           3       0     fired        2\n",
      "9998   female  51.049296  37.810145           4       0     fired        2\n",
      "9999     male  36.158740  35.062329           2       3        ok        0\n",
      "10000  female  57.962541  54.786236           4       4  promoted        1\n",
      "\n",
      "[7847 rows x 7 columns]\n"
     ]
    },
    {
     "data": {
      "text/plain": [
       "Pipeline(steps=[('preprocessor',\n",
       "                 ColumnTransformer(transformers=[('cat',\n",
       "                                                  Pipeline(steps=[('onehot',\n",
       "                                                                   OneHotEncoder(handle_unknown='ignore'))]),\n",
       "                                                  ['gender']),\n",
       "                                                 ('num', 'passthrough',\n",
       "                                                  ['age', 'hours', 'evaluation',\n",
       "                                                   'salary'])])),\n",
       "                ('classifier',\n",
       "                 DecisionTreeClassifier(max_depth=7, random_state=123))])"
      ]
     },
     "execution_count": 37,
     "metadata": {},
     "output_type": "execute_result"
    }
   ],
   "source": [
    "data = dx.datasets.load_hr()\n",
    "\n",
    "# status is the target\n",
    "X = data.drop(columns='status')\n",
    "y = data.status\n",
    "\n",
    "# Transformação da coluna str 'status' que continha (promoted, fired, ou ok) em uma coluna com dados numéricos em que: 0 = ok, 1 = promoted e 2 = fired\n",
    "status_list = []\n",
    "for i in y:\n",
    "    if i == 'fired':\n",
    "        status_list.append(2)\n",
    "    if i == 'promoted':\n",
    "        status_list.append(1)\n",
    "    if i == 'ok':\n",
    "        status_list.append(0)\n",
    "\n",
    "data['status2'] = status_list\n",
    "\n",
    "y = data.status2\n",
    "print(data)\n",
    "\n",
    "categorical_features = ['gender']\n",
    "numerical_features = ['age', 'hours', 'evaluation', 'salary']\n",
    "categorical_transformer = Pipeline(steps=[\n",
    "    ('onehot', OneHotEncoder(handle_unknown='ignore'))\n",
    "])\n",
    "\n",
    "preprocessor = ColumnTransformer(transformers=[\n",
    "        ('cat', categorical_transformer, categorical_features),\n",
    "        ('num', 'passthrough', numerical_features)\n",
    "])\n",
    "\n",
    "clf = Pipeline(steps=[\n",
    "    ('preprocessor', preprocessor),\n",
    "    ('classifier', DecisionTreeClassifier(max_depth=7, random_state=123))\n",
    "])\n",
    "\n",
    "clf.fit(X, y)"
   ]
  },
  {
   "cell_type": "code",
   "execution_count": 38,
   "metadata": {},
   "outputs": [
    {
     "name": "stdout",
     "output_type": "stream",
     "text": [
      "Preparation of a new explainer is initiated\n",
      "\n",
      "  -> data              : 7847 rows 5 cols\n",
      "  -> target variable   : Parameter 'y' was a pandas.Series. Converted to a numpy.ndarray.\n",
      "  -> target variable   : 7847 values\n",
      "  -> model_class       : sklearn.tree._classes.DecisionTreeClassifier (default)\n",
      "  -> label             : Not specified, model's class short name will be used. (default)\n",
      "  -> predict function  : <function yhat_proba_default at 0x105DD738> will be used (default)\n",
      "  -> predict function  : Accepts only pandas.DataFrame, numpy.ndarray causes problems.\n",
      "  -> predicted values  : min = 0.0, mean = 0.353, max = 1.0\n",
      "  -> model type        : classification will be used (default)\n",
      "  -> residual function : difference between y and yhat (default)\n",
      "  -> residuals         : min = -0.987, mean = 0.728, max = 2.0\n",
      "  -> model_info        : package sklearn\n",
      "\n",
      "A new explainer has been created!\n"
     ]
    }
   ],
   "source": [
    "exp = dx.Explainer(clf, X, y)"
   ]
  },
  {
   "cell_type": "code",
   "execution_count": 39,
   "metadata": {},
   "outputs": [
    {
     "data": {
      "text/html": [
       "<div>\n",
       "<style scoped>\n",
       "    .dataframe tbody tr th:only-of-type {\n",
       "        vertical-align: middle;\n",
       "    }\n",
       "\n",
       "    .dataframe tbody tr th {\n",
       "        vertical-align: top;\n",
       "    }\n",
       "\n",
       "    .dataframe thead th {\n",
       "        text-align: right;\n",
       "    }\n",
       "</style>\n",
       "<table border=\"1\" class=\"dataframe\">\n",
       "  <thead>\n",
       "    <tr style=\"text-align: right;\">\n",
       "      <th></th>\n",
       "      <th>recall</th>\n",
       "      <th>precision</th>\n",
       "      <th>f1</th>\n",
       "      <th>accuracy</th>\n",
       "      <th>auc</th>\n",
       "    </tr>\n",
       "  </thead>\n",
       "  <tbody>\n",
       "    <tr>\n",
       "      <th>DecisionTreeClassifier</th>\n",
       "      <td>0.74161</td>\n",
       "      <td>0.88084</td>\n",
       "      <td>0.805251</td>\n",
       "      <td>0.800881</td>\n",
       "      <td>1.244003</td>\n",
       "    </tr>\n",
       "  </tbody>\n",
       "</table>\n",
       "</div>"
      ],
      "text/plain": [
       "                         recall  precision        f1  accuracy       auc\n",
       "DecisionTreeClassifier  0.74161    0.88084  0.805251  0.800881  1.244003"
      ]
     },
     "execution_count": 39,
     "metadata": {},
     "output_type": "execute_result"
    }
   ],
   "source": [
    "exp.model_performance().result"
   ]
  },
  {
   "cell_type": "code",
   "execution_count": null,
   "metadata": {},
   "outputs": [],
   "source": []
  }
 ],
 "metadata": {
  "interpreter": {
   "hash": "10bb5168cab8ebc0242983e95bb6d653622a39d01397f61e92cd6b3ff2e3f772"
  },
  "kernelspec": {
   "display_name": "Python 3.7.0 32-bit",
   "language": "python",
   "name": "python3"
  },
  "language_info": {
   "codemirror_mode": {
    "name": "ipython",
    "version": 3
   },
   "file_extension": ".py",
   "mimetype": "text/x-python",
   "name": "python",
   "nbconvert_exporter": "python",
   "pygments_lexer": "ipython3",
   "version": "3.7.0"
  },
  "orig_nbformat": 4
 },
 "nbformat": 4,
 "nbformat_minor": 2
}
