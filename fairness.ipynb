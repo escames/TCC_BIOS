{
 "cells": [
  {
   "cell_type": "code",
   "execution_count": 3,
   "metadata": {},
   "outputs": [],
   "source": [
    "import dalex as dx\n",
    "import numpy as np\n",
    "import pandas as pd\n",
    "from sklearn.compose import ColumnTransformer\n",
    "from sklearn.pipeline import Pipeline\n",
    "from sklearn.preprocessing import OneHotEncoder\n",
    "from sklearn.tree import DecisionTreeClassifier"
   ]
  },
  {
   "cell_type": "code",
   "execution_count": 4,
   "metadata": {},
   "outputs": [
    {
     "name": "stdout",
     "output_type": "stream",
     "text": [
      "      m2_price  construction_year  surface  floor  no_rooms     district\n",
      "1         5897               1953       25      3         1  Srodmiescie\n",
      "2         1818               1992      143      9         5      Bielany\n",
      "3         3643               1937       56      1         2        Praga\n",
      "4         3517               1995       93      7         3       Ochota\n",
      "5         3013               1992      144      6         5      Mokotow\n",
      "...        ...                ...      ...    ...       ...          ...\n",
      "996       6355               1921       44      2         2  Srodmiescie\n",
      "997       3422               1921       48     10         2       Bemowo\n",
      "998       3098               1980       85      3         3       Bemowo\n",
      "999       4192               1942       36      7         1     Zoliborz\n",
      "1000      3327               1992      112      6         5      Mokotow\n",
      "\n",
      "[1000 rows x 6 columns]\n"
     ]
    }
   ],
   "source": [
    "data = dx.datasets.load_apartments()\n",
    "print(data)\n"
   ]
  }
 ],
 "metadata": {
  "interpreter": {
   "hash": "10bb5168cab8ebc0242983e95bb6d653622a39d01397f61e92cd6b3ff2e3f772"
  },
  "kernelspec": {
   "display_name": "Python 3.7.0 32-bit",
   "language": "python",
   "name": "python3"
  },
  "language_info": {
   "codemirror_mode": {
    "name": "ipython",
    "version": 3
   },
   "file_extension": ".py",
   "mimetype": "text/x-python",
   "name": "python",
   "nbconvert_exporter": "python",
   "pygments_lexer": "ipython3",
   "version": "3.7.0"
  },
  "orig_nbformat": 4
 },
 "nbformat": 4,
 "nbformat_minor": 2
}
