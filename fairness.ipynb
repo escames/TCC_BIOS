{
 "cells": [
  {
   "cell_type": "code",
   "execution_count": null,
   "metadata": {},
   "outputs": [],
   "source": [
    "import dalex as dx\n",
    "import numpy as np\n",
    "import pandas as pd\n",
    "from sklearn.compose import ColumnTransformer\n",
    "from sklearn.pipeline import Pipeline\n",
    "from sklearn.preprocessing import OneHotEncoder\n",
    "from sklearn.tree import DecisionTreeClassifier"
   ]
  },
  {
   "cell_type": "code",
   "execution_count": null,
   "metadata": {},
   "outputs": [],
   "source": [
    "data = open('Fraud.csv')\n",
    "print(data)\n",
    "#df = pd.read_csv(data)\n",
    "# print(df)\n",
    "\n",
    "\"\"\"\n",
    "X = df.drop(columns='isFraud')\n",
    "y = df.isFraud\n",
    "\n",
    "categorical_features = ['type', 'nameOrig', 'nameDest']\n",
    "numerical_features = ['step', 'amount', 'oldbalanceOrg',\n",
    "                      'newbalanceOrig', 'oldbalanceDest', 'newbalanceDest']\n",
    "\n",
    "categorical_transformer = Pipeline(steps=[\n",
    "    ('onehot', OneHotEncoder(handle_unknown='ignore'))\n",
    "])\n",
    "\n",
    "preprocessor = ColumnTransformer(transformers=[\n",
    "    ('cat', categorical_transformer, categorical_features),\n",
    "    ('num', 'passthrough', numerical_features)\n",
    "])\n",
    "\n",
    "clf = Pipeline(steps=[\n",
    "    ('preprocessor', preprocessor),\n",
    "    ('classifier', DecisionTreeClassifier(max_depth=7, random_state=123))\n",
    "])\n",
    "\n",
    "clf.fit(X, y)\n",
    "\n",
    "exp = dx.Explainer(clf, X, y)\n",
    "\n",
    "exp.model_performance().result\n",
    "\n",
    "\"\"\"\n",
    "\n",
    "# uma mudanca\n"
   ]
  }
 ],
 "metadata": {
  "language_info": {
   "name": "python"
  },
  "orig_nbformat": 4
 },
 "nbformat": 4,
 "nbformat_minor": 2
}
