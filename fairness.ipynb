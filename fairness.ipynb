{
 "cells": [
  {
   "cell_type": "code",
   "execution_count": 14,
   "metadata": {},
   "outputs": [],
   "source": [
    "import dalex as dx\n",
    "import numpy as np\n",
    "import pandas as pd\n",
    "from sklearn.compose import ColumnTransformer\n",
    "from sklearn.pipeline import Pipeline\n",
    "from sklearn.preprocessing import OneHotEncoder\n",
    "from sklearn.tree import DecisionTreeClassifier"
   ]
  },
  {
   "cell_type": "markdown",
   "metadata": {},
   "source": [
    "## Dataset\n",
    "\n",
    "##### Utilizando como dataset de análise o banco de dados presente na biblioteca Dalex que contém os dados de RH de uma empresa, indicando uma futura situação de promoção, demissão ou estagnação (no mesmo cargo), de funcionários. Para fins de análise do exemplo dado, iremos apenas "
   ]
  },
  {
   "cell_type": "code",
   "execution_count": 15,
   "metadata": {},
   "outputs": [
    {
     "name": "stdout",
     "output_type": "stream",
     "text": [
      "       gender        age      hours  evaluation  salary    status  status2\n",
      "1        male  32.582669  41.886256           3       1     fired        0\n",
      "2      female  41.211040  36.343392           2       5     fired        0\n",
      "3        male  37.705164  36.817179           3       0     fired        0\n",
      "4      female  30.060513  38.960317           3       2     fired        0\n",
      "5        male  21.102827  62.154639           5       3  promoted        1\n",
      "...       ...        ...        ...         ...     ...       ...      ...\n",
      "9996   female  50.175709  45.582520           5       0  promoted        1\n",
      "9997   female  59.087273  40.664725           3       0     fired        0\n",
      "9998   female  51.049296  37.810145           4       0     fired        0\n",
      "9999     male  36.158740  35.062329           2       3        ok        1\n",
      "10000  female  57.962541  54.786236           4       4  promoted        1\n",
      "\n",
      "[7847 rows x 7 columns]\n"
     ]
    },
    {
     "data": {
      "text/plain": [
       "Pipeline(steps=[('preprocessor',\n",
       "                 ColumnTransformer(transformers=[('cat',\n",
       "                                                  Pipeline(steps=[('onehot',\n",
       "                                                                   OneHotEncoder(handle_unknown='ignore'))]),\n",
       "                                                  ['gender']),\n",
       "                                                 ('num', 'passthrough',\n",
       "                                                  ['age', 'hours', 'evaluation',\n",
       "                                                   'salary'])])),\n",
       "                ('classifier',\n",
       "                 DecisionTreeClassifier(max_depth=7, random_state=123))])"
      ]
     },
     "execution_count": 15,
     "metadata": {},
     "output_type": "execute_result"
    }
   ],
   "source": [
    "data = dx.datasets.load_hr()\n",
    "\n",
    "# status is the target\n",
    "X = data.drop(columns='status')\n",
    "y = data.status\n",
    "\n",
    "# Transformação da coluna str 'status' que continha (promoted, fired, ou ok) em uma coluna com dados numéricos em que: 0 = ok, 1 = promoted e 2 = fired\n",
    "status_list = []\n",
    "for i in y:\n",
    "    if i == 'fired':\n",
    "        status_list.append(0)\n",
    "    if i == 'promoted':\n",
    "        status_list.append(1)\n",
    "    if i == 'ok':\n",
    "        status_list.append(1)\n",
    "\n",
    "data['status2'] = status_list\n",
    "\n",
    "y = data.status2\n",
    "print(data)\n",
    "\n",
    "categorical_features = ['gender']\n",
    "numerical_features = ['age', 'hours', 'evaluation', 'salary']\n",
    "categorical_transformer = Pipeline(steps=[\n",
    "    ('onehot', OneHotEncoder(handle_unknown='ignore'))\n",
    "])\n",
    "\n",
    "preprocessor = ColumnTransformer(transformers=[\n",
    "        ('cat', categorical_transformer, categorical_features),\n",
    "        ('num', 'passthrough', numerical_features)\n",
    "])\n",
    "\n",
    "clf = Pipeline(steps=[\n",
    "    ('preprocessor', preprocessor),\n",
    "    ('classifier', DecisionTreeClassifier(max_depth=7, random_state=123))\n",
    "])\n",
    "\n",
    "clf.fit(X, y)"
   ]
  },
  {
   "cell_type": "code",
   "execution_count": 16,
   "metadata": {},
   "outputs": [
    {
     "name": "stdout",
     "output_type": "stream",
     "text": [
      "Preparation of a new explainer is initiated\n",
      "\n",
      "  -> data              : 7847 rows 5 cols\n",
      "  -> target variable   : Parameter 'y' was a pandas.Series. Converted to a numpy.ndarray.\n",
      "  -> target variable   : 7847 values\n",
      "  -> model_class       : sklearn.tree._classes.DecisionTreeClassifier (default)\n",
      "  -> label             : Not specified, model's class short name will be used. (default)\n",
      "  -> predict function  : <function yhat_proba_default at 0x0F756300> will be used (default)\n",
      "  -> predict function  : Accepts only pandas.DataFrame, numpy.ndarray causes problems.\n",
      "  -> predicted values  : min = 0.0, mean = 0.636, max = 1.0\n",
      "  -> model type        : classification will be used (default)\n",
      "  -> residual function : difference between y and yhat (default)\n",
      "  -> residuals         : min = -0.995, mean = -1.58e-18, max = 0.975\n",
      "  -> model_info        : package sklearn\n",
      "\n",
      "A new explainer has been created!\n"
     ]
    }
   ],
   "source": [
    "exp = dx.Explainer(clf, X, y)"
   ]
  },
  {
   "cell_type": "code",
   "execution_count": 17,
   "metadata": {},
   "outputs": [
    {
     "data": {
      "text/html": [
       "<div>\n",
       "<style scoped>\n",
       "    .dataframe tbody tr th:only-of-type {\n",
       "        vertical-align: middle;\n",
       "    }\n",
       "\n",
       "    .dataframe tbody tr th {\n",
       "        vertical-align: top;\n",
       "    }\n",
       "\n",
       "    .dataframe thead th {\n",
       "        text-align: right;\n",
       "    }\n",
       "</style>\n",
       "<table border=\"1\" class=\"dataframe\">\n",
       "  <thead>\n",
       "    <tr style=\"text-align: right;\">\n",
       "      <th></th>\n",
       "      <th>recall</th>\n",
       "      <th>precision</th>\n",
       "      <th>f1</th>\n",
       "      <th>accuracy</th>\n",
       "      <th>auc</th>\n",
       "    </tr>\n",
       "  </thead>\n",
       "  <tbody>\n",
       "    <tr>\n",
       "      <th>DecisionTreeClassifier</th>\n",
       "      <td>0.901643</td>\n",
       "      <td>0.8218</td>\n",
       "      <td>0.859872</td>\n",
       "      <td>0.81305</td>\n",
       "      <td>0.900965</td>\n",
       "    </tr>\n",
       "  </tbody>\n",
       "</table>\n",
       "</div>"
      ],
      "text/plain": [
       "                          recall  precision        f1  accuracy       auc\n",
       "DecisionTreeClassifier  0.901643     0.8218  0.859872   0.81305  0.900965"
      ]
     },
     "execution_count": 17,
     "metadata": {},
     "output_type": "execute_result"
    }
   ],
   "source": [
    "exp.model_performance().result"
   ]
  },
  {
   "cell_type": "markdown",
   "metadata": {},
   "source": [
    "#### Check fairness"
   ]
  },
  {
   "cell_type": "code",
   "execution_count": 18,
   "metadata": {},
   "outputs": [],
   "source": [
    "protected = data.gender + '_' + np.where(data.age < 35, 'young', 'old')\n",
    "\n",
    "privileged = 'male_young'"
   ]
  },
  {
   "cell_type": "code",
   "execution_count": 19,
   "metadata": {},
   "outputs": [],
   "source": [
    "fobject = exp.model_fairness(protected = protected, privileged=privileged)"
   ]
  },
  {
   "cell_type": "code",
   "execution_count": 20,
   "metadata": {},
   "outputs": [
    {
     "name": "stdout",
     "output_type": "stream",
     "text": [
      "Bias detected in 2 metrics: PPV, FPR\n",
      "\n",
      "Conclusion: your model is not fair because 2 or more criteria exceeded acceptable limits set by epsilon.\n",
      "\n",
      "Ratios of metrics, based on 'male_young'. Parameter 'epsilon' was set to 0.8 and therefore metrics should be within (0.8, 1.25)\n",
      "                   TPR       ACC       PPV       FPR       STP\n",
      "female_old    1.046784  1.008363  0.958019  1.287611  1.021038\n",
      "female_young  1.125146  0.903226  0.706136  1.823009  0.925666\n",
      "male_old      1.090058  0.946237  0.801938  1.646018  0.943899\n"
     ]
    }
   ],
   "source": [
    "fobject.fairness_check(epsilon = 0.8)"
   ]
  },
  {
   "cell_type": "markdown",
   "metadata": {},
   "source": [
    "#### Outros atributos"
   ]
  },
  {
   "cell_type": "code",
   "execution_count": 21,
   "metadata": {},
   "outputs": [
    {
     "data": {
      "text/html": [
       "<div>\n",
       "<style scoped>\n",
       "    .dataframe tbody tr th:only-of-type {\n",
       "        vertical-align: middle;\n",
       "    }\n",
       "\n",
       "    .dataframe tbody tr th {\n",
       "        vertical-align: top;\n",
       "    }\n",
       "\n",
       "    .dataframe thead th {\n",
       "        text-align: right;\n",
       "    }\n",
       "</style>\n",
       "<table border=\"1\" class=\"dataframe\">\n",
       "  <thead>\n",
       "    <tr style=\"text-align: right;\">\n",
       "      <th></th>\n",
       "      <th>TPR</th>\n",
       "      <th>TNR</th>\n",
       "      <th>PPV</th>\n",
       "      <th>NPV</th>\n",
       "      <th>FNR</th>\n",
       "      <th>FPR</th>\n",
       "      <th>FDR</th>\n",
       "      <th>FOR</th>\n",
       "      <th>ACC</th>\n",
       "      <th>STP</th>\n",
       "    </tr>\n",
       "  </thead>\n",
       "  <tbody>\n",
       "    <tr>\n",
       "      <th>female_old</th>\n",
       "      <td>1.046784</td>\n",
       "      <td>0.916021</td>\n",
       "      <td>0.958019</td>\n",
       "      <td>1.185855</td>\n",
       "      <td>0.724138</td>\n",
       "      <td>1.287611</td>\n",
       "      <td>1.549296</td>\n",
       "      <td>0.711735</td>\n",
       "      <td>1.008363</td>\n",
       "      <td>1.021038</td>\n",
       "    </tr>\n",
       "    <tr>\n",
       "      <th>female_young</th>\n",
       "      <td>1.125146</td>\n",
       "      <td>0.759690</td>\n",
       "      <td>0.706136</td>\n",
       "      <td>1.560855</td>\n",
       "      <td>0.262069</td>\n",
       "      <td>1.823009</td>\n",
       "      <td>4.845070</td>\n",
       "      <td>0.130102</td>\n",
       "      <td>0.903226</td>\n",
       "      <td>0.925666</td>\n",
       "    </tr>\n",
       "    <tr>\n",
       "      <th>male_old</th>\n",
       "      <td>1.090058</td>\n",
       "      <td>0.811370</td>\n",
       "      <td>0.801938</td>\n",
       "      <td>1.460526</td>\n",
       "      <td>0.468966</td>\n",
       "      <td>1.646018</td>\n",
       "      <td>3.591549</td>\n",
       "      <td>0.285714</td>\n",
       "      <td>0.946237</td>\n",
       "      <td>0.943899</td>\n",
       "    </tr>\n",
       "    <tr>\n",
       "      <th>male_young</th>\n",
       "      <td>1.000000</td>\n",
       "      <td>1.000000</td>\n",
       "      <td>1.000000</td>\n",
       "      <td>1.000000</td>\n",
       "      <td>1.000000</td>\n",
       "      <td>1.000000</td>\n",
       "      <td>1.000000</td>\n",
       "      <td>1.000000</td>\n",
       "      <td>1.000000</td>\n",
       "      <td>1.000000</td>\n",
       "    </tr>\n",
       "  </tbody>\n",
       "</table>\n",
       "</div>"
      ],
      "text/plain": [
       "                   TPR       TNR       PPV       NPV       FNR       FPR  \\\n",
       "female_old    1.046784  0.916021  0.958019  1.185855  0.724138  1.287611   \n",
       "female_young  1.125146  0.759690  0.706136  1.560855  0.262069  1.823009   \n",
       "male_old      1.090058  0.811370  0.801938  1.460526  0.468966  1.646018   \n",
       "male_young    1.000000  1.000000  1.000000  1.000000  1.000000  1.000000   \n",
       "\n",
       "                   FDR       FOR       ACC       STP  \n",
       "female_old    1.549296  0.711735  1.008363  1.021038  \n",
       "female_young  4.845070  0.130102  0.903226  0.925666  \n",
       "male_old      3.591549  0.285714  0.946237  0.943899  \n",
       "male_young    1.000000  1.000000  1.000000  1.000000  "
      ]
     },
     "execution_count": 21,
     "metadata": {},
     "output_type": "execute_result"
    }
   ],
   "source": [
    "fobject.result"
   ]
  },
  {
   "cell_type": "code",
   "execution_count": null,
   "metadata": {},
   "outputs": [],
   "source": []
  }
 ],
 "metadata": {
  "interpreter": {
   "hash": "10bb5168cab8ebc0242983e95bb6d653622a39d01397f61e92cd6b3ff2e3f772"
  },
  "kernelspec": {
   "display_name": "Python 3.7.0 32-bit",
   "language": "python",
   "name": "python3"
  },
  "language_info": {
   "codemirror_mode": {
    "name": "ipython",
    "version": 3
   },
   "file_extension": ".py",
   "mimetype": "text/x-python",
   "name": "python",
   "nbconvert_exporter": "python",
   "pygments_lexer": "ipython3",
   "version": "3.7.0"
  },
  "orig_nbformat": 4
 },
 "nbformat": 4,
 "nbformat_minor": 2
}
