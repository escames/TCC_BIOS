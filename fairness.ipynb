{
 "cells": [
  {
   "cell_type": "code",
   "execution_count": 25,
   "metadata": {},
   "outputs": [],
   "source": [
    "import dalex as dx\n",
    "import numpy as np\n",
    "import pandas as pd\n",
    "from sklearn.compose import ColumnTransformer\n",
    "from sklearn.pipeline import Pipeline\n",
    "from sklearn.preprocessing import OneHotEncoder\n",
    "from sklearn.tree import DecisionTreeClassifier"
   ]
  },
  {
   "cell_type": "code",
   "execution_count": 31,
   "metadata": {},
   "outputs": [
    {
     "name": "stdout",
     "output_type": "stream",
     "text": [
      "       gender        age      hours  evaluation  salary    status\n",
      "1        male  32.582669  41.886256           3       1     fired\n",
      "2      female  41.211040  36.343392           2       5     fired\n",
      "3        male  37.705164  36.817179           3       0     fired\n",
      "4      female  30.060513  38.960317           3       2     fired\n",
      "5        male  21.102827  62.154639           5       3  promoted\n",
      "...       ...        ...        ...         ...     ...       ...\n",
      "9996   female  50.175709  45.582520           5       0  promoted\n",
      "9997   female  59.087273  40.664725           3       0     fired\n",
      "9998   female  51.049296  37.810145           4       0     fired\n",
      "9999     male  36.158740  35.062329           2       3        ok\n",
      "10000  female  57.962541  54.786236           4       4  promoted\n",
      "\n",
      "[7847 rows x 6 columns]\n",
      "       gender        age      hours  evaluation  salary    status  status2\n",
      "1        male  32.582669  41.886256           3       1     fired        2\n",
      "2      female  41.211040  36.343392           2       5     fired        2\n",
      "3        male  37.705164  36.817179           3       0     fired        2\n",
      "4      female  30.060513  38.960317           3       2     fired        2\n",
      "5        male  21.102827  62.154639           5       3  promoted        1\n",
      "...       ...        ...        ...         ...     ...       ...      ...\n",
      "9996   female  50.175709  45.582520           5       0  promoted        1\n",
      "9997   female  59.087273  40.664725           3       0     fired        2\n",
      "9998   female  51.049296  37.810145           4       0     fired        2\n",
      "9999     male  36.158740  35.062329           2       3        ok        0\n",
      "10000  female  57.962541  54.786236           4       4  promoted        1\n",
      "\n",
      "[7847 rows x 7 columns]\n"
     ]
    },
    {
     "data": {
      "text/plain": [
       "Pipeline(steps=[('preprocessor',\n",
       "                 ColumnTransformer(transformers=[('cat',\n",
       "                                                  Pipeline(steps=[('onehot',\n",
       "                                                                   OneHotEncoder(handle_unknown='ignore'))]),\n",
       "                                                  ['gender']),\n",
       "                                                 ('num', 'passthrough',\n",
       "                                                  ['age', 'hours', 'evaluation',\n",
       "                                                   'salary'])])),\n",
       "                ('classifier',\n",
       "                 DecisionTreeClassifier(max_depth=7, random_state=123))])"
      ]
     },
     "execution_count": 31,
     "metadata": {},
     "output_type": "execute_result"
    }
   ],
   "source": [
    "data = dx.datasets.load_hr()\n",
    "\n",
    "# status is the target\n",
    "X = data.drop(columns='status')\n",
    "print(data)\n",
    "\n",
    "status_list = []\n",
    "for i in y:\n",
    "    if i == 'fired':\n",
    "        status_list.append(2)\n",
    "    if i == 'promoted':\n",
    "        status_list.append(1)\n",
    "    if i == 'ok':\n",
    "        status_list.append(0)\n",
    "\n",
    "data['status2'] = status_list\n",
    "\n",
    "y = data.status2\n",
    "print(data)\n",
    "\n",
    "categorical_features = ['gender']\n",
    "numerical_features = ['age', 'hours', 'evaluation', 'salary']\n",
    "categorical_transformer = Pipeline(steps=[\n",
    "    ('onehot', OneHotEncoder(handle_unknown='ignore'))\n",
    "])\n",
    "\n",
    "preprocessor = ColumnTransformer(transformers=[\n",
    "        ('cat', categorical_transformer, categorical_features),\n",
    "        ('num', 'passthrough', numerical_features)\n",
    "])\n",
    "\n",
    "clf = Pipeline(steps=[\n",
    "    ('preprocessor', preprocessor),\n",
    "    ('classifier', DecisionTreeClassifier(max_depth=7, random_state=123))\n",
    "])\n",
    "\n",
    "clf.fit(X, y)"
   ]
  },
  {
   "cell_type": "code",
   "execution_count": 27,
   "metadata": {},
   "outputs": [
    {
     "name": "stdout",
     "output_type": "stream",
     "text": [
      "Preparation of a new explainer is initiated\n",
      "\n",
      "  -> data              : 7847 rows 5 cols\n",
      "  -> target variable   : Parameter 'y' was a pandas.Series. Converted to a numpy.ndarray.\n",
      "  -> target variable   : 7847 values\n",
      "  -> target variable   : Please note that 'y' is a string array.\n",
      "  -> target variable   : 'y' should be a numeric or boolean array.\n",
      "  -> target variable   : Otherwise an Error may occur in calculating residuals or loss.\n",
      "  -> model_class       : sklearn.tree._classes.DecisionTreeClassifier (default)\n",
      "  -> label             : Not specified, model's class short name will be used. (default)\n",
      "  -> predict function  : <function yhat_proba_default at 0x105DD738> will be used (default)\n",
      "  -> predict function  : Accepts only pandas.DataFrame, numpy.ndarray causes problems.\n",
      "  -> predicted values  : min = 0.0, mean = 0.283, max = 1.0\n",
      "  -> model type        : classification will be used (default)\n",
      "  -> residual function : difference between y and yhat (default)\n",
      "  -> residuals         :  'residual_function' returns an Error when executed:\n",
      "unsupported operand type(s) for -: 'str' and 'float'\n",
      "  -> model_info        : package sklearn\n",
      "\n",
      "A new explainer has been created!\n"
     ]
    }
   ],
   "source": [
    "exp = dx.Explainer(clf, X, y)"
   ]
  },
  {
   "cell_type": "code",
   "execution_count": 28,
   "metadata": {},
   "outputs": [
    {
     "ename": "ValueError",
     "evalue": "'y' attribute in Explainer is of string type and it should be numerical to allow for calculations",
     "output_type": "error",
     "traceback": [
      "\u001b[1;31m---------------------------------------------------------------------------\u001b[0m",
      "\u001b[1;31mValueError\u001b[0m                                Traceback (most recent call last)",
      "\u001b[1;32m<ipython-input-28-33f84e372ee0>\u001b[0m in \u001b[0;36m<module>\u001b[1;34m\u001b[0m\n\u001b[1;32m----> 1\u001b[1;33m \u001b[0mexp\u001b[0m\u001b[1;33m.\u001b[0m\u001b[0mmodel_performance\u001b[0m\u001b[1;33m(\u001b[0m\u001b[1;33m)\u001b[0m\u001b[1;33m.\u001b[0m\u001b[0mresult\u001b[0m\u001b[1;33m\u001b[0m\u001b[0m\n\u001b[0m",
      "\u001b[1;32m~\\AppData\\Local\\Programs\\Python\\Python37-32\\lib\\site-packages\\dalex\\_explainer\\object.py\u001b[0m in \u001b[0;36mmodel_performance\u001b[1;34m(self, model_type, cutoff, label)\u001b[0m\n\u001b[0;32m    480\u001b[0m \u001b[1;33m\u001b[0m\u001b[0m\n\u001b[0;32m    481\u001b[0m         \u001b[0mchecks\u001b[0m\u001b[1;33m.\u001b[0m\u001b[0mcheck_data_again\u001b[0m\u001b[1;33m(\u001b[0m\u001b[0mself\u001b[0m\u001b[1;33m.\u001b[0m\u001b[0mdata\u001b[0m\u001b[1;33m)\u001b[0m\u001b[1;33m\u001b[0m\u001b[0m\n\u001b[1;32m--> 482\u001b[1;33m         \u001b[0mchecks\u001b[0m\u001b[1;33m.\u001b[0m\u001b[0mcheck_y_again\u001b[0m\u001b[1;33m(\u001b[0m\u001b[0mself\u001b[0m\u001b[1;33m.\u001b[0m\u001b[0my\u001b[0m\u001b[1;33m)\u001b[0m\u001b[1;33m\u001b[0m\u001b[0m\n\u001b[0m\u001b[0;32m    483\u001b[0m \u001b[1;33m\u001b[0m\u001b[0m\n\u001b[0;32m    484\u001b[0m         \u001b[1;32mif\u001b[0m \u001b[0mmodel_type\u001b[0m \u001b[1;32mis\u001b[0m \u001b[1;32mNone\u001b[0m \u001b[1;32mand\u001b[0m \u001b[0mself\u001b[0m\u001b[1;33m.\u001b[0m\u001b[0mmodel_type\u001b[0m \u001b[1;32mis\u001b[0m \u001b[1;32mNone\u001b[0m\u001b[1;33m:\u001b[0m\u001b[1;33m\u001b[0m\u001b[0m\n",
      "\u001b[1;32m~\\AppData\\Local\\Programs\\Python\\Python37-32\\lib\\site-packages\\dalex\\_explainer\\checks.py\u001b[0m in \u001b[0;36mcheck_y_again\u001b[1;34m(y)\u001b[0m\n\u001b[0;32m    101\u001b[0m         \u001b[1;32mraise\u001b[0m \u001b[0mValueError\u001b[0m\u001b[1;33m(\u001b[0m\u001b[1;34m\"'y' attribute in Explainer is missing\"\u001b[0m\u001b[1;33m)\u001b[0m\u001b[1;33m\u001b[0m\u001b[0m\n\u001b[0;32m    102\u001b[0m     \u001b[1;32mif\u001b[0m \u001b[0misinstance\u001b[0m\u001b[1;33m(\u001b[0m\u001b[0my\u001b[0m\u001b[1;33m[\u001b[0m\u001b[1;36m0\u001b[0m\u001b[1;33m]\u001b[0m\u001b[1;33m,\u001b[0m \u001b[0mstr\u001b[0m\u001b[1;33m)\u001b[0m\u001b[1;33m:\u001b[0m\u001b[1;33m\u001b[0m\u001b[0m\n\u001b[1;32m--> 103\u001b[1;33m         raise ValueError(\"'y' attribute in Explainer is of string type and it should be numerical \"\n\u001b[0m\u001b[0;32m    104\u001b[0m                          \"to allow for calculations\")\n\u001b[0;32m    105\u001b[0m \u001b[1;33m\u001b[0m\u001b[0m\n",
      "\u001b[1;31mValueError\u001b[0m: 'y' attribute in Explainer is of string type and it should be numerical to allow for calculations"
     ]
    }
   ],
   "source": [
    "exp.model_performance().result"
   ]
  }
 ],
 "metadata": {
  "interpreter": {
   "hash": "10bb5168cab8ebc0242983e95bb6d653622a39d01397f61e92cd6b3ff2e3f772"
  },
  "kernelspec": {
   "display_name": "Python 3.7.0 32-bit",
   "language": "python",
   "name": "python3"
  },
  "language_info": {
   "codemirror_mode": {
    "name": "ipython",
    "version": 3
   },
   "file_extension": ".py",
   "mimetype": "text/x-python",
   "name": "python",
   "nbconvert_exporter": "python",
   "pygments_lexer": "ipython3",
   "version": "3.7.0"
  },
  "orig_nbformat": 4
 },
 "nbformat": 4,
 "nbformat_minor": 2
}
